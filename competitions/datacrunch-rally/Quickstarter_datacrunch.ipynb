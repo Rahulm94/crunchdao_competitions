{
 "cells": [
  {
   "cell_type": "markdown",
   "metadata": {},
   "source": [
    "# Abstract\n",
    "\n",
    "This notebook is a quickstarter for DataCrunching. It is a collection of code snippets and explanations to get you started with the DataCrunch code competition. It should give you a good starting point to understand how to work with the Crunch Foundation infrastructure.\n",
    "\n",
    "It shows how to load the data, how to create a submission file and how to submit it.\n",
    "\n",
    "The main goal of this notebook is to show how to make use of the function `crunch.alpha_score()` through the API in the context of your Machine Learning modeling. This function is used to calculate the scores of a prediction dataframe. It returns the score as calculated by the Crunch Foundation, with the un-obfuscated target and the same prediction transformations.\n",
    "\n",
    "The cumulative product of this metric has an 84% correlation with the DataCrunch fund performance. This is to be compared with the 60% correlation of the spearman metric: it is reasonable to anticipate, [ceteris paribus](https://en.wikipedia.org/wiki/Ceteris_paribus), a 40% increase in the post-execution performance of the DataCrunch competition! We therefore believe this is a major step towards a more realistic and fair evaluation of the performance of the participants.\n",
    "\n",
    "The scores on the leaderboard will be computed using the exact same prediction transformations and un-obfuscated target; this makes it possible for you to cross-validate your models against the actual scoring function and obtain reasonable expectations about your Out-of-Sample performance, defined by the scoring metric."
   ]
  },
  {
   "cell_type": "markdown",
   "metadata": {},
   "source": [
    "# Environment setup"
   ]
  },
  {
   "cell_type": "markdown",
   "metadata": {},
   "source": [
    "Get your environment setup command on the following link: http://hub.crunchdao.com/competitions/datacrunch/submit"
   ]
  },
  {
   "cell_type": "code",
   "execution_count": null,
   "metadata": {},
   "outputs": [],
   "source": [
    "# Install\n",
    "%pip install crunch-cli --upgrade\n",
    "\n",
    "!crunch setup datacrunch . --token qbjrYSqcS9Rzr2KDu5qR4UPA3x6JoX6kwxowpsD8tF5zlsnYKdcL7YSxmdzcMy1x # <- replace with your token: https://hub.crunchdao.com/competitions/datacrunch/submit/via/notebook"
   ]
  },
  {
   "cell_type": "markdown",
   "metadata": {},
   "source": [
    "# Import"
   ]
  },
  {
   "cell_type": "markdown",
   "metadata": {},
   "source": [
    "**IMPORTANT**: For each library import, in order to avoid any issue related to the library version, it is strongly recommended to specify the version of the library you are using. This to ensure that the notebook will be reproducible in the Crunch Foundation environment without any undesirable modification to the behavior of your code.\n",
    "\n",
    "If you submit through the cli, fill the `requirements.txt` with the libraries used and their respective versions."
   ]
  },
  {
   "cell_type": "code",
   "execution_count": 2,
   "metadata": {},
   "outputs": [
    {
     "name": "stdout",
     "output_type": "stream",
     "text": [
      "Requirement already satisfied: readwrite in /usr/local/lib/python3.10/dist-packages (0.5.1)\n",
      "Requirement already satisfied: click in /usr/local/lib/python3.10/dist-packages (from readwrite) (8.1.1)\n",
      "Requirement already satisfied: pandas in /usr/local/lib/python3.10/dist-packages (from readwrite) (1.5.3)\n",
      "Requirement already satisfied: pytest in /usr/local/lib/python3.10/dist-packages (from readwrite) (7.2.2)\n",
      "Requirement already satisfied: pyarrow in /usr/local/lib/python3.10/dist-packages (from readwrite) (11.0.0)\n",
      "Requirement already satisfied: tqdm in /usr/local/lib/python3.10/dist-packages (from readwrite) (4.64.1)\n",
      "Requirement already satisfied: pyyaml in /usr/local/lib/python3.10/dist-packages (from readwrite) (6.0.1)\n",
      "Requirement already satisfied: toml in /usr/local/lib/python3.10/dist-packages (from readwrite) (0.10.2)\n",
      "Requirement already satisfied: openpyxl in /usr/local/lib/python3.10/dist-packages (from readwrite) (3.1.2)\n",
      "Requirement already satisfied: et-xmlfile in /usr/local/lib/python3.10/dist-packages (from openpyxl->readwrite) (1.1.0)\n",
      "Requirement already satisfied: python-dateutil>=2.8.1 in /config/.local/lib/python3.10/site-packages (from pandas->readwrite) (2.8.2)\n",
      "Requirement already satisfied: pytz>=2020.1 in /usr/local/lib/python3.10/dist-packages (from pandas->readwrite) (2023.3.post1)\n",
      "Requirement already satisfied: numpy>=1.21.0 in /usr/local/lib/python3.10/dist-packages (from pandas->readwrite) (1.24.3)\n",
      "Requirement already satisfied: attrs>=19.2.0 in /usr/local/lib/python3.10/dist-packages (from pytest->readwrite) (23.1.0)\n",
      "Requirement already satisfied: iniconfig in /usr/local/lib/python3.10/dist-packages (from pytest->readwrite) (2.0.0)\n",
      "Requirement already satisfied: packaging in /config/.local/lib/python3.10/site-packages (from pytest->readwrite) (23.1)\n",
      "Requirement already satisfied: pluggy<2.0,>=0.12 in /usr/local/lib/python3.10/dist-packages (from pytest->readwrite) (1.3.0)\n",
      "Requirement already satisfied: exceptiongroup>=1.0.0rc8 in /config/.local/lib/python3.10/site-packages (from pytest->readwrite) (1.1.3)\n",
      "Requirement already satisfied: tomli>=1.0.0 in /usr/local/lib/python3.10/dist-packages (from pytest->readwrite) (2.0.1)\n",
      "Requirement already satisfied: six>=1.5 in /config/.local/lib/python3.10/site-packages (from python-dateutil>=2.8.1->pandas->readwrite) (1.16.0)\n",
      "\u001b[33mWARNING: Running pip as the 'root' user can result in broken permissions and conflicting behaviour with the system package manager. It is recommended to use a virtual environment instead: https://pip.pypa.io/warnings/venv\u001b[0m\u001b[33m\n",
      "\u001b[0mNote: you may need to restart the kernel to use updated packages.\n"
     ]
    }
   ],
   "source": [
    "# Install the necessary packages\n",
    "%pip install readwrite\n",
    "#%pip install [package_name]"
   ]
  },
  {
   "cell_type": "code",
   "execution_count": 3,
   "metadata": {},
   "outputs": [],
   "source": [
    "# Imports\n",
    "import os\n",
    "\n",
    "# Specify the library version with the `==` operator. Follow the examples below for any other library added.\n",
    "# You can get the version of the library you are using by running the command `!pip show <library_name>`, or '!pip freeze | grep <library_name>'.\n",
    "# If you submit a .py file, you can add the library version to the requirements.txt file.\n",
    "import joblib # == 1.3.2\n",
    "import pandas as pd # == 2.1.0\n",
    "import numpy as np # == 1.24.3\n",
    "import xgboost as xgb # == 2.0.0\n",
    "import crunch # == 3.0.0\n",
    "import readwrite as rw # == 0.5.1\n",
    "from tqdm import tqdm # == 4.64.1\n",
    "import matplotlib.pyplot as plt # == 3.6.3"
   ]
  },
  {
   "cell_type": "markdown",
   "metadata": {},
   "source": [
    "# Get the data"
   ]
  },
  {
   "cell_type": "code",
   "execution_count": 4,
   "metadata": {},
   "outputs": [
    {
     "name": "stdout",
     "output_type": "stream",
     "text": [
      "loaded inline runner with module: <module '__main__'>\n",
      "download data/X_train.parquet from https://datacrunch-com.s3.eu-west-1.amazonaws.com/staging/adialab/data-releases/51/X_train.parquet (129046475 bytes)\n",
      "already exists: file length match\n",
      "download data/y_train.parquet from https://datacrunch-com.s3.eu-west-1.amazonaws.com/staging/adialab/data-releases/51/y_train.parquet (3266783 bytes)\n",
      "already exists: file length match\n",
      "download data/X_test.parquet from https://datacrunch-com.s3.eu-west-1.amazonaws.com/staging/adialab/data-releases/51/X_test_reduced.parquet (3226621 bytes)\n",
      "already exists: file length match\n",
      "download data/y_test.parquet from https://datacrunch-com.s3.eu-west-1.amazonaws.com/staging/adialab/data-releases/51/y_test_reduced.parquet (63799 bytes)\n",
      "already exists: file length match\n",
      "download data/example_prediction.parquet from https://datacrunch-com.s3.eu-west-1.amazonaws.com/staging/adialab/data-releases/51/example_prediction_reduced.parquet (40955 bytes)\n",
      "already exists: file length match\n"
     ]
    }
   ],
   "source": [
    "# Getting the data\n",
    "crunch = crunch.load_notebook()\n",
    "X_train, y_train, X_test = crunch.load_data(engine='fastparquet')"
   ]
  },
  {
   "cell_type": "markdown",
   "metadata": {},
   "source": [
    "# Train"
   ]
  },
  {
   "cell_type": "markdown",
   "metadata": {},
   "source": [
    "The train function that will be called by the Crunch platform is defined below.\n",
    "\n",
    "This function will be called in a frequency that is defined by your `training frequency` parameter that you will define when deploying your model on the Crunch platform."
   ]
  },
  {
   "cell_type": "code",
   "execution_count": 5,
   "metadata": {},
   "outputs": [],
   "source": [
    "# Uncomment the parameter(s) that you need!\n",
    "def train(\n",
    "    X_train: pd.DataFrame,\n",
    "    y_train: pd.DataFrame,\n",
    "    number_of_features: int,\n",
    "    model_directory_path: str,\n",
    "    id_column_name: str,\n",
    "    moon_column_name: str,\n",
    "    target_column_name: str,\n",
    "    prediction_column_name: str,\n",
    "    # moon: int,\n",
    "    embargo: int,\n",
    "    # has_gpu: bool,\n",
    ") -> None:\n",
    "    \"\"\"\n",
    "    Do your model training here.\n",
    "    At each retrain this function will have to save an updated version of\n",
    "    the model under the model_directiory_path, as in the example below.\n",
    "    Note: You can use other serialization methods than joblib.dump(), as\n",
    "    long as it matches what reads the model in infer().\n",
    "\n",
    "    Args:\n",
    "        X_train, y_train: the data to train the model.\n",
    "        number_of_features: the number of features of the dataset.\n",
    "        model_directory_path: the path to save your updated model.\n",
    "        id_column_name: the name of the id column.\n",
    "        moon_column_name: the name of the moon column.\n",
    "        target_column_name: the name of the target column.\n",
    "        prediction_column_name: the name of the prediction column.\n",
    "        moon, current_moon: the moon currently being processed.\n",
    "        embargo: data embargo.\n",
    "        has_gpu: if the runner has a gpu.\n",
    "\n",
    "    Returns:\n",
    "        None\n",
    "    \"\"\"\n",
    "    features_columns = [column for column in X_train.columns if'Feature' in column]\n",
    "\n",
    "    # Train-Validation split (80-20%)\n",
    "    moons = X_train[moon_column_name].unique()\n",
    "    moon_split = moons[int(len(moons) * 0.8)]\n",
    "    \n",
    "    Xtrain = X_train.loc[X_train[moon_column_name] < moon_split - embargo].set_index([moon_column_name, id_column_name])\n",
    "    ytrain = y_train.loc[X_train[moon_column_name] < moon_split - embargo]\n",
    "\n",
    "    Xval = X_train.loc[X_train[moon_column_name] >= moon_split].set_index([moon_column_name, id_column_name])\n",
    "    yval = y_train.loc[X_train[moon_column_name] >= moon_split]\n",
    "\n",
    "    # Create DMatrix objects for the training and validation sets\n",
    "    dtrain = xgb.DMatrix(Xtrain, label=ytrain[target_column_name])\n",
    "    dval = xgb.DMatrix(Xval, label=yval[target_column_name])\n",
    "\n",
    "    def cumulative_product_alpha_score(preds, dmat):\n",
    "        \"\"\"\n",
    "        Scoring function associated to the competition.\n",
    "        The alpha score function details can be found in the documentation: https://app.gitbook.com/o/RB633hrgkrGuKJC9yruJ/s/bdufLVkgajcmVMIaXaw1/the-tournament/evaluation\n",
    "        \"\"\"\n",
    "        if preds.shape[0] == Xval.shape[0]:\n",
    "            preds_df = pd.DataFrame(preds, index=Xval.index, columns=[\"pred\"])\n",
    "            merged_df = pd.concat([Xval[[]], preds_df], axis=1)\n",
    "        else:\n",
    "            preds_df = pd.DataFrame(preds, index=Xtrain.index, columns=[\"pred\"])\n",
    "            merged_df = pd.concat([Xtrain[[]], preds_df], axis=1)\n",
    "\n",
    "\n",
    "        # API call to compute the alpha score\n",
    "        alpha_score = crunch.alpha_score(merged_df.reset_index().rename(columns={'pred': 'prediction'}))\n",
    "\n",
    "        # Compute the cumulative product of the alpha score. This is the metric we want to maximise. Can be changed for another metric (eg. sharpe).\n",
    "        cumprod = np.cumprod(alpha_score + 1) - 1\n",
    "\n",
    "        return 'cumprod_alpha_score', -cumprod.iloc[-1] # Return the negative value as the custom metric is minimized\n",
    "\n",
    "    # Define hyperparameters for XGBoost model\n",
    "    params = {\n",
    "        'objective': 'reg:squarederror',\n",
    "        'max_depth': 1,\n",
    "        'eta': 0.05,\n",
    "        'subsample': 1,\n",
    "        'colsample_bytree': 0.1,\n",
    "    }\n",
    "\n",
    "    # Specify the validation set for early stopping\n",
    "    evals = [(dtrain, 'train'), (dval, 'eval')]\n",
    "\n",
    "    # Run the model\n",
    "    model = xgb.train(params, dtrain, evals=evals, custom_metric=cumulative_product_alpha_score, early_stopping_rounds=10)\n",
    "\n",
    "    # Save the model\n",
    "    joblib.dump(\n",
    "        model,\n",
    "        os.path.join(model_directory_path, \"model.joblib\")\n",
    "    )"
   ]
  },
  {
   "cell_type": "markdown",
   "metadata": {},
   "source": [
    "# Infer"
   ]
  },
  {
   "cell_type": "markdown",
   "metadata": {},
   "source": [
    "The `infer` function that will be called by the Crunch platform is defined below.\n",
    "\n",
    "This function will be called on every `moon` of the `Out-Of-Sample`."
   ]
  },
  {
   "cell_type": "code",
   "execution_count": 6,
   "metadata": {},
   "outputs": [],
   "source": [
    "# Uncomment the parameter(s) that you need!\n",
    "def infer(\n",
    "    X_test: pd.DataFrame,\n",
    "    # number_of_features: int,\n",
    "    model_directory_path: str,\n",
    "    id_column_name: str,\n",
    "    moon_column_name: str,\n",
    "    # target_column_name: str,\n",
    "    # moon: int,\n",
    "    # has_gpu: bool,\n",
    "    # has_trained: bool,\n",
    ") -> pd.DataFrame:\n",
    "    \"\"\"\n",
    "    Do your inference here.\n",
    "    This function will load the model saved at the previous iteration and use\n",
    "    it to produce your inference on the current date.\n",
    "    It is mandatory to send your inferences with the ids so the system\n",
    "    can match it correctly.\n",
    "\n",
    "    Args:\n",
    "        X_test: the independant  variables of the current date passed to your model.\n",
    "        number_of_features: the number of features of the dataset\n",
    "        model_directory_path: the path to the directory to the directory in wich we will be saving your updated model.\n",
    "        id_column_name: the name of the id column\n",
    "        moon_column_name: the name of the moon column\n",
    "        target_column_name: the name of the target column\n",
    "        moon: the moon currently being processed\n",
    "        has_gpu: if the runner has a gpu\n",
    "        has_trained: if the moon will train\n",
    "\n",
    "    Returns:\n",
    "        A dataframe (moon, id, prediction) with the inferences of your model for the current moon.\n",
    "    \"\"\"\n",
    "    features_columns = [column for column in X_test.columns if'Feature' in column]\n",
    "\n",
    "    # Loading the model saved by the train function at previous iteration\n",
    "    model = joblib.load(os.path.join(model_directory_path, \"model.joblib\"))\n",
    "\n",
    "    # Create Dmatrix object\n",
    "    dtest = xgb.DMatrix(X_test.loc[:, features_columns])\n",
    "\n",
    "    # creating the predicted label dataframe with correct dates and ids\n",
    "    prediction = X_test[[moon_column_name, id_column_name]].copy()\n",
    "    prediction['prediction'] = model.predict(dtest)\n",
    "\n",
    "    return prediction"
   ]
  },
  {
   "cell_type": "markdown",
   "metadata": {},
   "source": [
    "# Cross-validate on a Walk-Forward framework"
   ]
  },
  {
   "cell_type": "code",
   "execution_count": 7,
   "metadata": {},
   "outputs": [],
   "source": [
    "df = pd.merge(X_train, y_train, on=['moon', 'id'])"
   ]
  },
  {
   "cell_type": "code",
   "execution_count": 10,
   "metadata": {},
   "outputs": [],
   "source": [
    "def splitter(\n",
    "    Xy_train: pd.DataFrame,\n",
    "    training_target: str,\n",
    "    start_train_size,\n",
    "    validation_size,\n",
    "    expanding_window: bool,\n",
    "    verbose,\n",
    "    output_path,\n",
    "    predictions_path,\n",
    "    id_column_name: str,\n",
    "    moon_column_name: str,\n",
    "    embargo: int,\n",
    "):\n",
    "    \"\"\"\n",
    "        Split data and train a machine learning model on each split.\n",
    "        This function takes input data `Xy_train`, splits it into training and validation sets\n",
    "        using time-series cross-validation, and train and infer on these splits.\n",
    "\n",
    "        Args:\n",
    "            Xy_train (pd.DataFrame): The input data with the features and the target(s).\n",
    "            training_target (str): The name of the target variable to train the model on.\n",
    "            model_name (str): The name of the model to use.\n",
    "            start_train_size (int): The number of observations to use for the initial training set.\n",
    "            validation_size (int): The number of observations to use for the validation set.\n",
    "            expanding_window (bool): Whether to use an expanding window or a rolling window.\n",
    "            verbose (bool): Whether to print the progress of the function.\n",
    "            output_path (str): The path to the output directory.\n",
    "            predictions_path (str): The path to the output dataframe.\n",
    "            id_column_name (str): The name of the column containing the symbols.\n",
    "            moon_column_name (str): The name of the column containing the time variable.\n",
    "            embargo (int): The number of moon_column_name cross-section to exclude from the training set to avoid lookahead bias.\n",
    "    \"\"\"\n",
    "    features = [c for c in Xy_train.columns if \"Feature\" in c]\n",
    "\n",
    "    # Select the targets columns name:\n",
    "    targets = [c for c in Xy_train.columns if \"target\" in c]\n",
    "\n",
    "    print( \"--------------------------------- Starting Walk Forward ---------------------------------\")\n",
    "    df_epochs = Xy_train[moon_column_name].unique()\n",
    "    print(f\"The input dataset has {len(df_epochs)} epochs: {df_epochs[0]} to {df_epochs[-1]}.\")\n",
    "    n_epochs = len(df_epochs)\n",
    "\n",
    "    print(f\"Number of features: {len(features)}.\")\n",
    "    print(f\"Number of targets: {len(targets)}.\")\n",
    "    uni_size = Xy_train.groupby(moon_column_name)[moon_column_name].count().mean()\n",
    "    print(f\"Average universe size: {int(uni_size)}.\")\n",
    "    print(\"------------------------------------------------------------------------------------------\")\n",
    "\n",
    "    # Create a list to store the predictions\n",
    "    predictions = []\n",
    "\n",
    "    # Define the start and end date for the training and validation sets\n",
    "    start_date = Xy_train[moon_column_name].min() + start_train_size + embargo\n",
    "    end_date = Xy_train[moon_column_name].max()\n",
    "\n",
    "    cv_splits = []\n",
    "    # Define the splits for the time-series cross-validation\n",
    "    while start_date + embargo < end_date:\n",
    "        if expanding_window:\n",
    "            train_data = Xy_train[(Xy_train[moon_column_name] <= start_date - embargo)]\n",
    "        else:\n",
    "            train_data = Xy_train[(Xy_train[moon_column_name] <= start_date - embargo) & (Xy_train[moon_column_name] > start_date - embargo - start_train_size)]\n",
    "        test_data = Xy_train[(Xy_train[moon_column_name] > start_date) & (Xy_train[moon_column_name] <= start_date + validation_size)]\n",
    "\n",
    "        cv_splits.append((train_data.index, test_data.index))\n",
    "\n",
    "        start_date = start_date + validation_size\n",
    "\n",
    "    n_splits = len(cv_splits)\n",
    "\n",
    "    try:\n",
    "        # Iterate over each split and train and infer on the data\n",
    "        for train_index, test_index in tqdm(cv_splits, total=n_splits):\n",
    "            train_set = Xy_train.loc[train_index]\n",
    "            X_train = train_set[[moon_column_name, id_column_name] + features]\n",
    "            y_train = train_set[[moon_column_name, id_column_name, training_target]]\n",
    "\n",
    "            test_set = Xy_train.iloc[test_index]\n",
    "            X_test = test_set[[moon_column_name, id_column_name] + features]\n",
    "\n",
    "            # Train the model and save it in the resources directory\n",
    "            train(\n",
    "                X_train=X_train,\n",
    "                y_train=y_train,\n",
    "                number_of_features=len(features),\n",
    "                model_directory_path=output_path,\n",
    "                id_column_name=id_column_name,\n",
    "                moon_column_name=moon_column_name,\n",
    "                target_column_name=training_target,\n",
    "                prediction_column_name=training_target,\n",
    "                embargo=embargo,\n",
    "            )\n",
    "            print(f\"Model trained from moon {train_set[moon_column_name].min()} to moon {train_set[moon_column_name].max()}.\")\n",
    "\n",
    "            # Infer on the test set\n",
    "            y_pred = infer(\n",
    "                X_test=X_test,\n",
    "                model_directory_path=output_path,\n",
    "                id_column_name=id_column_name,\n",
    "                moon_column_name=moon_column_name,\n",
    "            )\n",
    "            print(f\"Model tested from moon {test_set[moon_column_name].min()} to moon {test_set[moon_column_name].max()}.\")\n",
    "\n",
    "            # Append the predictions to the list.\n",
    "            # The overall predictions list will contains all the consecutive moons from the start date + 1 moon.\n",
    "            predictions.append(y_pred)\n",
    "\n",
    "            # Compute the alpha score with the API call\n",
    "            alpha_score = crunch.alpha_score(y_pred[[id_column_name, moon_column_name, 'prediction']])\n",
    "            \n",
    "            # Print a bunch of metrics\n",
    "            grp_sharpe = alpha_score.mean() / alpha_score.std() * np.sqrt(52) # Annualized sharpe ratio.\n",
    "            grp_cumprod = (np.cumprod(alpha_score + 1) - 1).iloc[-1]\n",
    "            print(f\"Annualized Sharpe Ratio based on Alpha Score on the period: {grp_sharpe}\")\n",
    "            print(f\"Final Cumulative Product of the Alpha Score on the period: {grp_cumprod}\")\n",
    "    finally:\n",
    "        if len(predictions) != 0:\n",
    "            os.makedirs(os.path.dirname(predictions_path), exist_ok=True)\n",
    "            df = pd.concat(predictions, axis=0).reset_index(drop=True)\n",
    "            # Save the predictions in the predictions_path folder so we can study them later.\n",
    "            rw.write(df, predictions_path)"
   ]
  },
  {
   "cell_type": "markdown",
   "metadata": {},
   "source": [
    "## Run splitter"
   ]
  },
  {
   "cell_type": "code",
   "execution_count": 11,
   "metadata": {},
   "outputs": [
    {
     "name": "stdout",
     "output_type": "stream",
     "text": [
      "--------------------------------- Starting Walk Forward ---------------------------------\n",
      "The input dataset has 285 epochs: 0 to 284.\n",
      "Number of features: 1071.\n",
      "Number of targets: 13.\n",
      "Average universe size: 1101.\n",
      "------------------------------------------------------------------------------------------\n"
     ]
    },
    {
     "name": "stderr",
     "output_type": "stream",
     "text": [
      "  0%|          | 0/9 [00:00<?, ?it/s]"
     ]
    },
    {
     "name": "stdout",
     "output_type": "stream",
     "text": [
      "[0]\ttrain-rmse:0.04311\ttrain-cumprod_alpha_score:-0.00751\teval-rmse:0.03234\teval-cumprod_alpha_score:-0.00037\n",
      "[1]\ttrain-rmse:0.04311\ttrain-cumprod_alpha_score:-0.01088\teval-rmse:0.03234\teval-cumprod_alpha_score:0.00003\n",
      "[2]\ttrain-rmse:0.04311\ttrain-cumprod_alpha_score:-0.01083\teval-rmse:0.03234\teval-cumprod_alpha_score:-0.00002\n",
      "[3]\ttrain-rmse:0.04311\ttrain-cumprod_alpha_score:-0.01128\teval-rmse:0.03235\teval-cumprod_alpha_score:0.00034\n",
      "[4]\ttrain-rmse:0.04310\ttrain-cumprod_alpha_score:-0.01171\teval-rmse:0.03235\teval-cumprod_alpha_score:0.00073\n",
      "[5]\ttrain-rmse:0.04310\ttrain-cumprod_alpha_score:-0.01162\teval-rmse:0.03235\teval-cumprod_alpha_score:0.00018\n",
      "[6]\ttrain-rmse:0.04310\ttrain-cumprod_alpha_score:-0.01057\teval-rmse:0.03235\teval-cumprod_alpha_score:0.00063\n",
      "[7]\ttrain-rmse:0.04310\ttrain-cumprod_alpha_score:-0.01018\teval-rmse:0.03235\teval-cumprod_alpha_score:0.00093\n",
      "[8]\ttrain-rmse:0.04310\ttrain-cumprod_alpha_score:-0.01009\teval-rmse:0.03235\teval-cumprod_alpha_score:0.00090\n",
      "[9]\ttrain-rmse:0.04310\ttrain-cumprod_alpha_score:-0.01075\teval-rmse:0.03235\teval-cumprod_alpha_score:0.00101\n",
      "Model trained from moon 1 to moon 52.\n",
      "Model tested from moon 54 to moon 79.\n"
     ]
    },
    {
     "name": "stderr",
     "output_type": "stream",
     "text": [
      " 11%|█         | 1/9 [00:48<06:27, 48.49s/it]"
     ]
    },
    {
     "name": "stdout",
     "output_type": "stream",
     "text": [
      "Annualized Sharpe Ratio based on Alpha Score on the period: alpha-score   -2.699837\n",
      "dtype: float64\n",
      "Final Cumulative Product of the Alpha Score on the period: alpha-score   -0.010726\n",
      "Name: 79, dtype: float64\n",
      "[0]\ttrain-rmse:0.03742\ttrain-cumprod_alpha_score:0.01092\teval-rmse:0.03782\teval-cumprod_alpha_score:-0.00989\n",
      "[1]\ttrain-rmse:0.03742\ttrain-cumprod_alpha_score:0.00647\teval-rmse:0.03782\teval-cumprod_alpha_score:0.00070\n",
      "[2]\ttrain-rmse:0.03742\ttrain-cumprod_alpha_score:0.00057\teval-rmse:0.03782\teval-cumprod_alpha_score:0.00108\n",
      "[3]\ttrain-rmse:0.03742\ttrain-cumprod_alpha_score:-0.00190\teval-rmse:0.03782\teval-cumprod_alpha_score:0.00075\n",
      "[4]\ttrain-rmse:0.03742\ttrain-cumprod_alpha_score:0.00347\teval-rmse:0.03782\teval-cumprod_alpha_score:0.00319\n",
      "[5]\ttrain-rmse:0.03742\ttrain-cumprod_alpha_score:0.00485\teval-rmse:0.03782\teval-cumprod_alpha_score:0.00540\n",
      "[6]\ttrain-rmse:0.03742\ttrain-cumprod_alpha_score:0.00367\teval-rmse:0.03782\teval-cumprod_alpha_score:0.00620\n",
      "[7]\ttrain-rmse:0.03742\ttrain-cumprod_alpha_score:0.00614\teval-rmse:0.03782\teval-cumprod_alpha_score:0.00860\n",
      "[8]\ttrain-rmse:0.03742\ttrain-cumprod_alpha_score:0.00557\teval-rmse:0.03782\teval-cumprod_alpha_score:0.00914\n",
      "[9]\ttrain-rmse:0.03742\ttrain-cumprod_alpha_score:0.00262\teval-rmse:0.03782\teval-cumprod_alpha_score:0.00761\n",
      "Model trained from moon 27 to moon 78.\n",
      "Model tested from moon 80 to moon 105.\n"
     ]
    },
    {
     "name": "stderr",
     "output_type": "stream",
     "text": [
      " 22%|██▏       | 2/9 [01:36<05:36, 48.04s/it]"
     ]
    },
    {
     "name": "stdout",
     "output_type": "stream",
     "text": [
      "Annualized Sharpe Ratio based on Alpha Score on the period: alpha-score   -0.452725\n",
      "dtype: float64\n",
      "Final Cumulative Product of the Alpha Score on the period: alpha-score   -0.002446\n",
      "Name: 99, dtype: float64\n",
      "[0]\ttrain-rmse:0.03655\ttrain-cumprod_alpha_score:0.01098\teval-rmse:0.04198\teval-cumprod_alpha_score:-0.00944\n",
      "[1]\ttrain-rmse:0.03655\ttrain-cumprod_alpha_score:0.00329\teval-rmse:0.04198\teval-cumprod_alpha_score:-0.00410\n",
      "[2]\ttrain-rmse:0.03654\ttrain-cumprod_alpha_score:0.00453\teval-rmse:0.04198\teval-cumprod_alpha_score:-0.00438\n",
      "[3]\ttrain-rmse:0.03654\ttrain-cumprod_alpha_score:0.00411\teval-rmse:0.04198\teval-cumprod_alpha_score:-0.00460\n",
      "[4]\ttrain-rmse:0.03654\ttrain-cumprod_alpha_score:0.00334\teval-rmse:0.04198\teval-cumprod_alpha_score:-0.00445\n",
      "[5]\ttrain-rmse:0.03654\ttrain-cumprod_alpha_score:0.00332\teval-rmse:0.04198\teval-cumprod_alpha_score:-0.00124\n",
      "[6]\ttrain-rmse:0.03654\ttrain-cumprod_alpha_score:0.00303\teval-rmse:0.04198\teval-cumprod_alpha_score:-0.00114\n",
      "[7]\ttrain-rmse:0.03654\ttrain-cumprod_alpha_score:0.00303\teval-rmse:0.04198\teval-cumprod_alpha_score:-0.00115\n",
      "[8]\ttrain-rmse:0.03654\ttrain-cumprod_alpha_score:0.00300\teval-rmse:0.04198\teval-cumprod_alpha_score:-0.00114\n",
      "[9]\ttrain-rmse:0.03654\ttrain-cumprod_alpha_score:0.00299\teval-rmse:0.04198\teval-cumprod_alpha_score:-0.00115\n",
      "Model trained from moon 53 to moon 104.\n",
      "Model tested from moon 106 to moon 131.\n"
     ]
    },
    {
     "name": "stderr",
     "output_type": "stream",
     "text": [
      " 33%|███▎      | 3/9 [02:23<04:46, 47.70s/it]"
     ]
    },
    {
     "name": "stdout",
     "output_type": "stream",
     "text": [
      "Annualized Sharpe Ratio based on Alpha Score on the period: alpha-score   -4.21055\n",
      "dtype: float64\n",
      "Final Cumulative Product of the Alpha Score on the period: alpha-score   -0.016905\n",
      "Name: 131, dtype: float64\n",
      "[0]\ttrain-rmse:0.04047\ttrain-cumprod_alpha_score:0.00730\teval-rmse:0.03978\teval-cumprod_alpha_score:0.00409\n",
      "[1]\ttrain-rmse:0.04047\ttrain-cumprod_alpha_score:0.01064\teval-rmse:0.03978\teval-cumprod_alpha_score:-0.00336\n",
      "[2]\ttrain-rmse:0.04047\ttrain-cumprod_alpha_score:0.01753\teval-rmse:0.03978\teval-cumprod_alpha_score:-0.00217\n",
      "[3]\ttrain-rmse:0.04046\ttrain-cumprod_alpha_score:0.01111\teval-rmse:0.03978\teval-cumprod_alpha_score:-0.00192\n",
      "[4]\ttrain-rmse:0.04046\ttrain-cumprod_alpha_score:0.01325\teval-rmse:0.03978\teval-cumprod_alpha_score:-0.00046\n",
      "[5]\ttrain-rmse:0.04046\ttrain-cumprod_alpha_score:0.01177\teval-rmse:0.03978\teval-cumprod_alpha_score:-0.00090\n",
      "[6]\ttrain-rmse:0.04046\ttrain-cumprod_alpha_score:0.01168\teval-rmse:0.03978\teval-cumprod_alpha_score:-0.00213\n",
      "[7]\ttrain-rmse:0.04046\ttrain-cumprod_alpha_score:0.01503\teval-rmse:0.03978\teval-cumprod_alpha_score:-0.00317\n",
      "[8]\ttrain-rmse:0.04046\ttrain-cumprod_alpha_score:0.01464\teval-rmse:0.03978\teval-cumprod_alpha_score:-0.00276\n",
      "[9]\ttrain-rmse:0.04046\ttrain-cumprod_alpha_score:0.01489\teval-rmse:0.03978\teval-cumprod_alpha_score:-0.00213\n",
      "Model trained from moon 79 to moon 130.\n",
      "Model tested from moon 132 to moon 157.\n"
     ]
    },
    {
     "name": "stderr",
     "output_type": "stream",
     "text": [
      " 44%|████▍     | 4/9 [03:09<03:55, 47.20s/it]"
     ]
    },
    {
     "name": "stdout",
     "output_type": "stream",
     "text": [
      "Annualized Sharpe Ratio based on Alpha Score on the period: alpha-score    0.290538\n",
      "dtype: float64\n",
      "Final Cumulative Product of the Alpha Score on the period: alpha-score    0.001497\n",
      "Name: 157, dtype: float64\n",
      "[0]\ttrain-rmse:0.04359\ttrain-cumprod_alpha_score:-0.00493\teval-rmse:0.05249\teval-cumprod_alpha_score:-0.00291\n",
      "[1]\ttrain-rmse:0.04359\ttrain-cumprod_alpha_score:-0.00635\teval-rmse:0.05249\teval-cumprod_alpha_score:-0.00635\n",
      "[2]\ttrain-rmse:0.04358\ttrain-cumprod_alpha_score:-0.00056\teval-rmse:0.05249\teval-cumprod_alpha_score:-0.00297\n",
      "[3]\ttrain-rmse:0.04358\ttrain-cumprod_alpha_score:0.00183\teval-rmse:0.05249\teval-cumprod_alpha_score:0.00048\n",
      "[4]\ttrain-rmse:0.04358\ttrain-cumprod_alpha_score:0.00307\teval-rmse:0.05249\teval-cumprod_alpha_score:0.00354\n",
      "[5]\ttrain-rmse:0.04358\ttrain-cumprod_alpha_score:-0.00099\teval-rmse:0.05249\teval-cumprod_alpha_score:0.00019\n",
      "[6]\ttrain-rmse:0.04358\ttrain-cumprod_alpha_score:-0.00499\teval-rmse:0.05249\teval-cumprod_alpha_score:-0.00094\n",
      "[7]\ttrain-rmse:0.04358\ttrain-cumprod_alpha_score:-0.00244\teval-rmse:0.05250\teval-cumprod_alpha_score:-0.00061\n",
      "[8]\ttrain-rmse:0.04358\ttrain-cumprod_alpha_score:0.00445\teval-rmse:0.05249\teval-cumprod_alpha_score:-0.00111\n",
      "[9]\ttrain-rmse:0.04358\ttrain-cumprod_alpha_score:0.00872\teval-rmse:0.05249\teval-cumprod_alpha_score:-0.00194\n",
      "Model trained from moon 105 to moon 156.\n",
      "Model tested from moon 158 to moon 183.\n"
     ]
    },
    {
     "name": "stderr",
     "output_type": "stream",
     "text": [
      " 56%|█████▌    | 5/9 [03:57<03:09, 47.33s/it]"
     ]
    },
    {
     "name": "stdout",
     "output_type": "stream",
     "text": [
      "Annualized Sharpe Ratio based on Alpha Score on the period: alpha-score   -0.063767\n",
      "dtype: float64\n",
      "Final Cumulative Product of the Alpha Score on the period: alpha-score   -0.000369\n",
      "Name: 183, dtype: float64\n",
      "[0]\ttrain-rmse:0.04822\ttrain-cumprod_alpha_score:0.00598\teval-rmse:0.04419\teval-cumprod_alpha_score:0.00614\n",
      "[1]\ttrain-rmse:0.04822\ttrain-cumprod_alpha_score:0.00405\teval-rmse:0.04419\teval-cumprod_alpha_score:0.00403\n",
      "[2]\ttrain-rmse:0.04822\ttrain-cumprod_alpha_score:0.00593\teval-rmse:0.04419\teval-cumprod_alpha_score:0.00192\n",
      "[3]\ttrain-rmse:0.04822\ttrain-cumprod_alpha_score:0.00411\teval-rmse:0.04419\teval-cumprod_alpha_score:0.00059\n",
      "[4]\ttrain-rmse:0.04822\ttrain-cumprod_alpha_score:0.00669\teval-rmse:0.04419\teval-cumprod_alpha_score:0.00133\n",
      "[5]\ttrain-rmse:0.04822\ttrain-cumprod_alpha_score:0.00727\teval-rmse:0.04419\teval-cumprod_alpha_score:0.00258\n",
      "[6]\ttrain-rmse:0.04821\ttrain-cumprod_alpha_score:0.01171\teval-rmse:0.04419\teval-cumprod_alpha_score:0.00625\n",
      "[7]\ttrain-rmse:0.04821\ttrain-cumprod_alpha_score:0.01184\teval-rmse:0.04419\teval-cumprod_alpha_score:0.00800\n",
      "[8]\ttrain-rmse:0.04821\ttrain-cumprod_alpha_score:0.01865\teval-rmse:0.04418\teval-cumprod_alpha_score:0.00926\n",
      "[9]\ttrain-rmse:0.04821\ttrain-cumprod_alpha_score:0.02065\teval-rmse:0.04418\teval-cumprod_alpha_score:0.00991\n",
      "Model trained from moon 131 to moon 182.\n",
      "Model tested from moon 184 to moon 209.\n"
     ]
    },
    {
     "name": "stderr",
     "output_type": "stream",
     "text": [
      " 67%|██████▋   | 6/9 [04:47<02:24, 48.14s/it]"
     ]
    },
    {
     "name": "stdout",
     "output_type": "stream",
     "text": [
      "Annualized Sharpe Ratio based on Alpha Score on the period: alpha-score   -0.734146\n",
      "dtype: float64\n",
      "Final Cumulative Product of the Alpha Score on the period: alpha-score   -0.003223\n",
      "Name: 209, dtype: float64\n",
      "[0]\ttrain-rmse:0.04417\ttrain-cumprod_alpha_score:0.00514\teval-rmse:0.04258\teval-cumprod_alpha_score:0.00239\n",
      "[1]\ttrain-rmse:0.04417\ttrain-cumprod_alpha_score:0.00220\teval-rmse:0.04258\teval-cumprod_alpha_score:0.00544\n",
      "[2]\ttrain-rmse:0.04417\ttrain-cumprod_alpha_score:0.00274\teval-rmse:0.04258\teval-cumprod_alpha_score:0.00437\n",
      "[3]\ttrain-rmse:0.04417\ttrain-cumprod_alpha_score:0.00001\teval-rmse:0.04258\teval-cumprod_alpha_score:0.00384\n",
      "[4]\ttrain-rmse:0.04417\ttrain-cumprod_alpha_score:0.00198\teval-rmse:0.04258\teval-cumprod_alpha_score:0.00404\n",
      "[5]\ttrain-rmse:0.04417\ttrain-cumprod_alpha_score:0.00356\teval-rmse:0.04258\teval-cumprod_alpha_score:0.00222\n",
      "[6]\ttrain-rmse:0.04416\ttrain-cumprod_alpha_score:0.00534\teval-rmse:0.04258\teval-cumprod_alpha_score:0.00035\n",
      "[7]\ttrain-rmse:0.04416\ttrain-cumprod_alpha_score:0.00622\teval-rmse:0.04258\teval-cumprod_alpha_score:-0.00160\n",
      "[8]\ttrain-rmse:0.04416\ttrain-cumprod_alpha_score:0.00707\teval-rmse:0.04258\teval-cumprod_alpha_score:-0.00112\n",
      "[9]\ttrain-rmse:0.04416\ttrain-cumprod_alpha_score:0.00712\teval-rmse:0.04258\teval-cumprod_alpha_score:-0.00269\n",
      "Model trained from moon 157 to moon 208.\n",
      "Model tested from moon 210 to moon 235.\n"
     ]
    },
    {
     "name": "stderr",
     "output_type": "stream",
     "text": [
      " 78%|███████▊  | 7/9 [05:32<01:34, 47.32s/it]"
     ]
    },
    {
     "name": "stdout",
     "output_type": "stream",
     "text": [
      "Annualized Sharpe Ratio based on Alpha Score on the period: alpha-score    0.612067\n",
      "dtype: float64\n",
      "Final Cumulative Product of the Alpha Score on the period: alpha-score    0.005188\n",
      "Name: 235, dtype: float64\n",
      "[0]\ttrain-rmse:0.07764\ttrain-cumprod_alpha_score:0.01793\teval-rmse:0.05964\teval-cumprod_alpha_score:0.00771\n",
      "[1]\ttrain-rmse:0.07764\ttrain-cumprod_alpha_score:0.01484\teval-rmse:0.05965\teval-cumprod_alpha_score:0.00623\n",
      "[2]\ttrain-rmse:0.07764\ttrain-cumprod_alpha_score:0.02260\teval-rmse:0.05965\teval-cumprod_alpha_score:0.00392\n",
      "[3]\ttrain-rmse:0.07764\ttrain-cumprod_alpha_score:0.02504\teval-rmse:0.05965\teval-cumprod_alpha_score:0.00338\n",
      "[4]\ttrain-rmse:0.07763\ttrain-cumprod_alpha_score:0.02584\teval-rmse:0.05966\teval-cumprod_alpha_score:0.00344\n",
      "[5]\ttrain-rmse:0.07763\ttrain-cumprod_alpha_score:0.03195\teval-rmse:0.05966\teval-cumprod_alpha_score:0.00411\n",
      "[6]\ttrain-rmse:0.07763\ttrain-cumprod_alpha_score:0.03468\teval-rmse:0.05966\teval-cumprod_alpha_score:0.00190\n",
      "[7]\ttrain-rmse:0.07763\ttrain-cumprod_alpha_score:0.02997\teval-rmse:0.05966\teval-cumprod_alpha_score:0.00130\n",
      "[8]\ttrain-rmse:0.07762\ttrain-cumprod_alpha_score:0.03136\teval-rmse:0.05966\teval-cumprod_alpha_score:0.00415\n",
      "[9]\ttrain-rmse:0.07762\ttrain-cumprod_alpha_score:0.03243\teval-rmse:0.05966\teval-cumprod_alpha_score:0.00593\n",
      "Model trained from moon 183 to moon 234.\n",
      "Model tested from moon 236 to moon 261.\n"
     ]
    },
    {
     "name": "stderr",
     "output_type": "stream",
     "text": [
      " 89%|████████▉ | 8/9 [06:18<00:46, 46.86s/it]"
     ]
    },
    {
     "name": "stdout",
     "output_type": "stream",
     "text": [
      "Annualized Sharpe Ratio based on Alpha Score on the period: alpha-score   -0.38194\n",
      "dtype: float64\n",
      "Final Cumulative Product of the Alpha Score on the period: alpha-score   -0.003292\n",
      "Name: 261, dtype: float64\n",
      "[0]\ttrain-rmse:0.08558\ttrain-cumprod_alpha_score:0.01820\teval-rmse:0.05529\teval-cumprod_alpha_score:0.00357\n",
      "[1]\ttrain-rmse:0.08558\ttrain-cumprod_alpha_score:0.02862\teval-rmse:0.05529\teval-cumprod_alpha_score:0.00382\n",
      "[2]\ttrain-rmse:0.08557\ttrain-cumprod_alpha_score:0.02862\teval-rmse:0.05529\teval-cumprod_alpha_score:0.00382\n",
      "[3]\ttrain-rmse:0.08557\ttrain-cumprod_alpha_score:0.02862\teval-rmse:0.05528\teval-cumprod_alpha_score:0.00382\n",
      "[4]\ttrain-rmse:0.08557\ttrain-cumprod_alpha_score:0.03401\teval-rmse:0.05528\teval-cumprod_alpha_score:0.00125\n",
      "[5]\ttrain-rmse:0.08556\ttrain-cumprod_alpha_score:0.02593\teval-rmse:0.05528\teval-cumprod_alpha_score:0.00288\n",
      "[6]\ttrain-rmse:0.08556\ttrain-cumprod_alpha_score:0.02539\teval-rmse:0.05528\teval-cumprod_alpha_score:0.00209\n",
      "[7]\ttrain-rmse:0.08556\ttrain-cumprod_alpha_score:0.02626\teval-rmse:0.05527\teval-cumprod_alpha_score:0.00230\n",
      "[8]\ttrain-rmse:0.08556\ttrain-cumprod_alpha_score:0.02720\teval-rmse:0.05527\teval-cumprod_alpha_score:0.00252\n",
      "[9]\ttrain-rmse:0.08555\ttrain-cumprod_alpha_score:0.03112\teval-rmse:0.05527\teval-cumprod_alpha_score:0.00167\n",
      "Model trained from moon 209 to moon 260.\n",
      "Model tested from moon 262 to moon 284.\n"
     ]
    },
    {
     "name": "stderr",
     "output_type": "stream",
     "text": [
      "100%|██████████| 9/9 [07:04<00:00, 47.19s/it]"
     ]
    },
    {
     "name": "stdout",
     "output_type": "stream",
     "text": [
      "Annualized Sharpe Ratio based on Alpha Score on the period: alpha-score    2.849826\n",
      "dtype: float64\n",
      "Final Cumulative Product of the Alpha Score on the period: alpha-score    0.017947\n",
      "Name: 284, dtype: float64\n"
     ]
    },
    {
     "name": "stderr",
     "output_type": "stream",
     "text": [
      "\n"
     ]
    }
   ],
   "source": [
    "# Train and infer on the data in a walk-forward manner\n",
    "splitter(\n",
    "    Xy_train=df,\n",
    "    training_target='target_w',\n",
    "    start_train_size=52,\n",
    "    validation_size=26, # 1 moon if you want to replicate the competition framework\n",
    "    expanding_window=False, # Expanding window will add more data to the training set at each iteration.\n",
    "    verbose=True,\n",
    "    output_path=crunch.model_directory,\n",
    "    predictions_path=f'{crunch.model_directory}/quickstarter_predictions.parquet',\n",
    "    id_column_name='id',\n",
    "    moon_column_name='moon',\n",
    "    embargo=1, # Use 1 to avoid lookahead bias if you are training on the target_w, 4 for _r_ target, 9 for _g_ targets, 13 for _b_ targets.\n",
    ")"
   ]
  },
  {
   "cell_type": "markdown",
   "metadata": {},
   "source": [
    "# Review the performance of the model"
   ]
  },
  {
   "cell_type": "code",
   "execution_count": null,
   "metadata": {},
   "outputs": [],
   "source": [
    "res = rw.read(f'{crunch.model_directory}/quickstarter_predictions.parquet', engine='fastparquet')"
   ]
  },
  {
   "cell_type": "code",
   "execution_count": null,
   "metadata": {},
   "outputs": [
    {
     "data": {
      "text/html": [
       "<div>\n",
       "<style scoped>\n",
       "    .dataframe tbody tr th:only-of-type {\n",
       "        vertical-align: middle;\n",
       "    }\n",
       "\n",
       "    .dataframe tbody tr th {\n",
       "        vertical-align: top;\n",
       "    }\n",
       "\n",
       "    .dataframe thead th {\n",
       "        text-align: right;\n",
       "    }\n",
       "</style>\n",
       "<table border=\"1\" class=\"dataframe\">\n",
       "  <thead>\n",
       "    <tr style=\"text-align: right;\">\n",
       "      <th></th>\n",
       "      <th>moon</th>\n",
       "      <th>id</th>\n",
       "      <th>score_target</th>\n",
       "    </tr>\n",
       "  </thead>\n",
       "  <tbody>\n",
       "    <tr>\n",
       "      <th>0</th>\n",
       "      <td>54</td>\n",
       "      <td>59054</td>\n",
       "      <td>0.006535</td>\n",
       "    </tr>\n",
       "    <tr>\n",
       "      <th>1</th>\n",
       "      <td>54</td>\n",
       "      <td>59620</td>\n",
       "      <td>0.005725</td>\n",
       "    </tr>\n",
       "    <tr>\n",
       "      <th>2</th>\n",
       "      <td>54</td>\n",
       "      <td>59049</td>\n",
       "      <td>0.006535</td>\n",
       "    </tr>\n",
       "    <tr>\n",
       "      <th>3</th>\n",
       "      <td>54</td>\n",
       "      <td>59050</td>\n",
       "      <td>0.006157</td>\n",
       "    </tr>\n",
       "    <tr>\n",
       "      <th>4</th>\n",
       "      <td>54</td>\n",
       "      <td>59051</td>\n",
       "      <td>0.006036</td>\n",
       "    </tr>\n",
       "    <tr>\n",
       "      <th>...</th>\n",
       "      <td>...</td>\n",
       "      <td>...</td>\n",
       "      <td>...</td>\n",
       "    </tr>\n",
       "    <tr>\n",
       "      <th>254761</th>\n",
       "      <td>284</td>\n",
       "      <td>313811</td>\n",
       "      <td>0.006215</td>\n",
       "    </tr>\n",
       "    <tr>\n",
       "      <th>254762</th>\n",
       "      <td>284</td>\n",
       "      <td>313812</td>\n",
       "      <td>0.004759</td>\n",
       "    </tr>\n",
       "    <tr>\n",
       "      <th>254763</th>\n",
       "      <td>284</td>\n",
       "      <td>313813</td>\n",
       "      <td>0.005739</td>\n",
       "    </tr>\n",
       "    <tr>\n",
       "      <th>254764</th>\n",
       "      <td>284</td>\n",
       "      <td>313526</td>\n",
       "      <td>0.005722</td>\n",
       "    </tr>\n",
       "    <tr>\n",
       "      <th>254765</th>\n",
       "      <td>284</td>\n",
       "      <td>313045</td>\n",
       "      <td>0.005028</td>\n",
       "    </tr>\n",
       "  </tbody>\n",
       "</table>\n",
       "<p>254766 rows × 3 columns</p>\n",
       "</div>"
      ],
      "text/plain": [
       "        moon      id  score_target\n",
       "0         54   59054      0.006535\n",
       "1         54   59620      0.005725\n",
       "2         54   59049      0.006535\n",
       "3         54   59050      0.006157\n",
       "4         54   59051      0.006036\n",
       "...      ...     ...           ...\n",
       "254761   284  313811      0.006215\n",
       "254762   284  313812      0.004759\n",
       "254763   284  313813      0.005739\n",
       "254764   284  313526      0.005722\n",
       "254765   284  313045      0.005028\n",
       "\n",
       "[254766 rows x 3 columns]"
      ]
     },
     "execution_count": 11,
     "metadata": {},
     "output_type": "execute_result"
    }
   ],
   "source": [
    "res"
   ]
  },
  {
   "cell_type": "code",
   "execution_count": null,
   "metadata": {},
   "outputs": [],
   "source": [
    "# Get the alpha score on the overall predictions\n",
    "alpha_score = crunch.alpha_score(res[['moon', 'id', 'prediction']].copy())"
   ]
  },
  {
   "cell_type": "code",
   "execution_count": null,
   "metadata": {},
   "outputs": [
    {
     "name": "stdout",
     "output_type": "stream",
     "text": [
      "Alpha Scores:       alpha-score\n",
      "moon             \n",
      "100      0.002092\n",
      "101      0.000232\n",
      "102     -0.003529\n",
      "103      0.000614\n",
      "104      0.000324\n",
      "...           ...\n",
      "95      -0.000143\n",
      "96       0.000171\n",
      "97      -0.000220\n",
      "98       0.000339\n",
      "99       0.000798\n",
      "\n",
      "[231 rows x 1 columns]\n",
      "Alpha Score Cumulative Product:       alpha-score\n",
      "moon             \n",
      "100      0.002092\n",
      "101      0.002325\n",
      "102     -0.001213\n",
      "103     -0.000600\n",
      "104     -0.000276\n",
      "...           ...\n",
      "95      -0.029317\n",
      "96      -0.029150\n",
      "97      -0.029363\n",
      "98      -0.029034\n",
      "99      -0.028259\n",
      "\n",
      "[231 rows x 1 columns]\n",
      "Alpha Score Sharpe: alpha-score   -0.477001\n",
      "dtype: float64\n"
     ]
    }
   ],
   "source": [
    "cumprod = np.cumprod(alpha_score + 1) - 1\n",
    "sharpe = alpha_score.mean() / alpha_score.std() * np.sqrt(52)\n",
    "\n",
    "print(f\"Alpha Scores: {alpha_score}\")\n",
    "print(f\"Alpha Score Cumulative Product: {cumprod}\")\n",
    "print(f\"Alpha Score Sharpe: {sharpe}\")"
   ]
  },
  {
   "cell_type": "code",
   "execution_count": null,
   "metadata": {},
   "outputs": [
    {
     "data": {
      "image/png": "[encoded data removed]",
      "text/plain": [
       "<Figure size 1500x400 with 1 Axes>"
      ]
     },
     "metadata": {},
     "output_type": "display_data"
    }
   ],
   "source": [
    "# Show the cumulative product of the alpha score\n",
    "cumprod.plot(title=f'Cumulative Product of the Alpha Score (sharpe: {sharpe})', figsize=(15, 4), grid=True)\n",
    "plt.show()"
   ]
  },
  {
   "cell_type": "markdown",
   "metadata": {},
   "source": [
    "This vanilla batched boosting estimator doesn't seem to perform here. Try to find a better model!"
   ]
  },
  {
   "cell_type": "markdown",
   "metadata": {},
   "source": [
    "# Submit your model"
   ]
  },
  {
   "cell_type": "markdown",
   "metadata": {},
   "source": [
    "## Through the API"
   ]
  },
  {
   "cell_type": "code",
   "execution_count": null,
   "metadata": {},
   "outputs": [],
   "source": [
    "# Save the libraries in a requirements.txt file \n",
    "libraries = ['joblib', 'pandas', 'numpy', 'xgboost', 'readwrite', 'tqdm', 'matplotlib']\n",
    "with open('requirements.txt', 'w') as f:\n",
    "    for lib in libraries:\n",
    "        f.write(f\"{lib}\\n\")"
   ]
  },
  {
   "cell_type": "code",
   "execution_count": null,
   "metadata": {},
   "outputs": [
    {
     "name": "stdout",
     "output_type": "stream",
     "text": [
      "convert cell_0 skip since not code: markdown\n",
      "convert cell_1 skip since not code: markdown\n",
      "convert cell_2 skip since not code: markdown\n",
      "convert cell_3 skip since no valid node\n",
      "convert cell_4 skip since not code: markdown\n",
      "convert cell_5 skip since not code: markdown\n",
      "convert cell_6 skip since empty (without !bash, %magic and #comment)\n",
      "convert cell_7 used 9/9 node(s)\n",
      "convert cell_8 skip since not code: markdown\n",
      "convert cell_9 skip since no valid node\n",
      "convert cell_10 skip since not code: markdown\n",
      "convert cell_11 skip since not code: markdown\n",
      "convert cell_12 used 1/1 node(s)\n",
      "convert cell_13 skip since not code: markdown\n",
      "convert cell_14 skip since not code: markdown\n",
      "convert cell_15 used 1/1 node(s)\n",
      "convert cell_16 skip since not code: markdown\n",
      "convert cell_17 skip since no valid node\n",
      "convert cell_18 used 1/1 node(s)\n",
      "convert cell_19 skip since not code: markdown\n",
      "convert cell_20 skip since no valid node\n",
      "convert cell_21 skip since not code: markdown\n",
      "convert cell_22 skip since no valid node\n",
      "convert cell_23 skip since no valid node\n",
      "convert cell_24 skip since no valid node\n",
      "convert cell_25 skip since no valid node\n",
      "convert cell_26 skip since no valid node\n",
      "convert cell_27 skip since not code: markdown\n",
      "convert cell_28 skip since not code: markdown\n",
      "convert cell_29 skip since not code: markdown\n",
      "convert cell_30 skip since empty (without !bash, %magic and #comment)\n",
      "convert cell_31 skip since not code: markdown\n",
      "convert cell_32 skip since not code: markdown\n",
      "INFO: Not scanning for jupyter notebooks.\n",
      "WARNING: Import named \"xgboost\" not found locally. Trying to resolve it at the PyPI server.\n",
      "WARNING: Import named \"xgboost\" was resolved to \"xgboost:2.0.3\" package (https://pypi.org/project/xgboost/).\n",
      "Please, verify manually the final list of requirements.txt to avoid possible dependency confusions.\n",
      "INFO: Successfully saved requirements file in ./requirements.txt\n",
      "found project: /config/workspace/git_repos/quickstarters-private\n",
      "compress test_modeling/predictions.parquet\n",
      "compress test_modeling/df_importance.parquet\n",
      "compress Quickstarter_datacrunch.ipynb\n",
      "compress EDA_datacrunch_competition.ipynb\n",
      "compress .gitignore\n",
      "compress README.md\n",
      "compress test.ipynb\n",
      "model quickstarter_predictions.parquet\n",
      "model model.joblib\n",
      "export datacrunch:project/42\n",
      "\n",
      "---\n",
      "submission #11 succesfully uploaded!\n",
      "Find it on your dashboard: http://hub.crunchdao.io/competitions/datacrunch/projects/42/submissions/11\n"
     ]
    }
   ],
   "source": [
    "# Convert the notebook to a .py file\n",
    "!crunch convert --override Quickstarter_datacrunch.ipynb main.py\n",
    "# Push your code to the platform\n",
    "!crunch push --message \"Quickstarter datacrunch\""
   ]
  },
  {
   "cell_type": "markdown",
   "metadata": {},
   "source": [
    "## Through the website\n",
    "\n",
    "Deposit this notebook in the submit window of the competition: https://hub.crunchdao.com/competitions/datacrunch/submit/via/notebook"
   ]
  }
 ],
 "metadata": {
  "kernelspec": {
   "display_name": "Python 3 (ipykernel)",
   "language": "python",
   "name": "python3"
  },
  "language_info": {
   "codemirror_mode": {
    "name": "ipython",
    "version": 3
   },
   "file_extension": ".py",
   "mimetype": "text/x-python",
   "name": "python",
   "nbconvert_exporter": "python",
   "pygments_lexer": "ipython3",
   "version": "3.10.11"
  }
 },
 "nbformat": 4,
 "nbformat_minor": 4
}
